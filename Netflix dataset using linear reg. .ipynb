{
 "cells": [
  {
   "cell_type": "code",
   "execution_count": 1,
   "id": "300849bd",
   "metadata": {},
   "outputs": [],
   "source": [
    "import seaborn as sns\n",
    "import numpy as np\n",
    "import pandas as pd\n",
    "import matplotlib.pyplot as plt\n",
    "%matplotlib inline"
   ]
  },
  {
   "cell_type": "code",
   "execution_count": 2,
   "id": "27e20962",
   "metadata": {},
   "outputs": [
    {
     "data": {
      "text/html": [
       "<div>\n",
       "<style scoped>\n",
       "    .dataframe tbody tr th:only-of-type {\n",
       "        vertical-align: middle;\n",
       "    }\n",
       "\n",
       "    .dataframe tbody tr th {\n",
       "        vertical-align: top;\n",
       "    }\n",
       "\n",
       "    .dataframe thead th {\n",
       "        text-align: right;\n",
       "    }\n",
       "</style>\n",
       "<table border=\"1\" class=\"dataframe\">\n",
       "  <thead>\n",
       "    <tr style=\"text-align: right;\">\n",
       "      <th></th>\n",
       "      <th>User ID</th>\n",
       "      <th>Subscription Type</th>\n",
       "      <th>Monthly Revenue</th>\n",
       "      <th>Join Date</th>\n",
       "      <th>Last Payment Date</th>\n",
       "      <th>Country</th>\n",
       "      <th>Age</th>\n",
       "      <th>Gender</th>\n",
       "      <th>Device</th>\n",
       "      <th>Plan Duration</th>\n",
       "    </tr>\n",
       "  </thead>\n",
       "  <tbody>\n",
       "    <tr>\n",
       "      <th>0</th>\n",
       "      <td>1</td>\n",
       "      <td>Basic</td>\n",
       "      <td>10</td>\n",
       "      <td>15-01-22</td>\n",
       "      <td>10-06-23</td>\n",
       "      <td>United States</td>\n",
       "      <td>28</td>\n",
       "      <td>Male</td>\n",
       "      <td>Smartphone</td>\n",
       "      <td>1 Month</td>\n",
       "    </tr>\n",
       "    <tr>\n",
       "      <th>1</th>\n",
       "      <td>2</td>\n",
       "      <td>Premium</td>\n",
       "      <td>15</td>\n",
       "      <td>05-09-21</td>\n",
       "      <td>22-06-23</td>\n",
       "      <td>Canada</td>\n",
       "      <td>35</td>\n",
       "      <td>Female</td>\n",
       "      <td>Tablet</td>\n",
       "      <td>1 Month</td>\n",
       "    </tr>\n",
       "    <tr>\n",
       "      <th>2</th>\n",
       "      <td>3</td>\n",
       "      <td>Standard</td>\n",
       "      <td>12</td>\n",
       "      <td>28-02-23</td>\n",
       "      <td>27-06-23</td>\n",
       "      <td>United Kingdom</td>\n",
       "      <td>42</td>\n",
       "      <td>Male</td>\n",
       "      <td>Smart TV</td>\n",
       "      <td>1 Month</td>\n",
       "    </tr>\n",
       "    <tr>\n",
       "      <th>3</th>\n",
       "      <td>4</td>\n",
       "      <td>Standard</td>\n",
       "      <td>12</td>\n",
       "      <td>10-07-22</td>\n",
       "      <td>26-06-23</td>\n",
       "      <td>Australia</td>\n",
       "      <td>51</td>\n",
       "      <td>Female</td>\n",
       "      <td>Laptop</td>\n",
       "      <td>1 Month</td>\n",
       "    </tr>\n",
       "    <tr>\n",
       "      <th>4</th>\n",
       "      <td>5</td>\n",
       "      <td>Basic</td>\n",
       "      <td>10</td>\n",
       "      <td>01-05-23</td>\n",
       "      <td>28-06-23</td>\n",
       "      <td>Germany</td>\n",
       "      <td>33</td>\n",
       "      <td>Male</td>\n",
       "      <td>Smartphone</td>\n",
       "      <td>1 Month</td>\n",
       "    </tr>\n",
       "  </tbody>\n",
       "</table>\n",
       "</div>"
      ],
      "text/plain": [
       "   User ID Subscription Type  Monthly Revenue Join Date Last Payment Date  \\\n",
       "0        1             Basic               10  15-01-22          10-06-23   \n",
       "1        2           Premium               15  05-09-21          22-06-23   \n",
       "2        3          Standard               12  28-02-23          27-06-23   \n",
       "3        4          Standard               12  10-07-22          26-06-23   \n",
       "4        5             Basic               10  01-05-23          28-06-23   \n",
       "\n",
       "          Country  Age  Gender      Device Plan Duration  \n",
       "0   United States   28    Male  Smartphone       1 Month  \n",
       "1          Canada   35  Female      Tablet       1 Month  \n",
       "2  United Kingdom   42    Male    Smart TV       1 Month  \n",
       "3       Australia   51  Female      Laptop       1 Month  \n",
       "4         Germany   33    Male  Smartphone       1 Month  "
      ]
     },
     "execution_count": 2,
     "metadata": {},
     "output_type": "execute_result"
    }
   ],
   "source": [
    "net=pd.read_csv(\"Netflix Userbase.csv\")\n",
    "net.head()"
   ]
  },
  {
   "cell_type": "code",
   "execution_count": 3,
   "id": "134278b1",
   "metadata": {},
   "outputs": [
    {
     "data": {
      "text/html": [
       "<div>\n",
       "<style scoped>\n",
       "    .dataframe tbody tr th:only-of-type {\n",
       "        vertical-align: middle;\n",
       "    }\n",
       "\n",
       "    .dataframe tbody tr th {\n",
       "        vertical-align: top;\n",
       "    }\n",
       "\n",
       "    .dataframe thead th {\n",
       "        text-align: right;\n",
       "    }\n",
       "</style>\n",
       "<table border=\"1\" class=\"dataframe\">\n",
       "  <thead>\n",
       "    <tr style=\"text-align: right;\">\n",
       "      <th></th>\n",
       "      <th>User ID</th>\n",
       "      <th>Subscription Type</th>\n",
       "      <th>Monthly Revenue</th>\n",
       "      <th>Join Date</th>\n",
       "      <th>Last Payment Date</th>\n",
       "      <th>Country</th>\n",
       "      <th>Age</th>\n",
       "      <th>Gender</th>\n",
       "      <th>Device</th>\n",
       "      <th>Plan Duration</th>\n",
       "    </tr>\n",
       "  </thead>\n",
       "  <tbody>\n",
       "    <tr>\n",
       "      <th>2495</th>\n",
       "      <td>2496</td>\n",
       "      <td>Premium</td>\n",
       "      <td>14</td>\n",
       "      <td>25-07-22</td>\n",
       "      <td>12-07-23</td>\n",
       "      <td>Spain</td>\n",
       "      <td>28</td>\n",
       "      <td>Female</td>\n",
       "      <td>Smart TV</td>\n",
       "      <td>1 Month</td>\n",
       "    </tr>\n",
       "    <tr>\n",
       "      <th>2496</th>\n",
       "      <td>2497</td>\n",
       "      <td>Basic</td>\n",
       "      <td>15</td>\n",
       "      <td>04-08-22</td>\n",
       "      <td>14-07-23</td>\n",
       "      <td>Spain</td>\n",
       "      <td>33</td>\n",
       "      <td>Female</td>\n",
       "      <td>Smart TV</td>\n",
       "      <td>1 Month</td>\n",
       "    </tr>\n",
       "    <tr>\n",
       "      <th>2497</th>\n",
       "      <td>2498</td>\n",
       "      <td>Standard</td>\n",
       "      <td>12</td>\n",
       "      <td>09-08-22</td>\n",
       "      <td>15-07-23</td>\n",
       "      <td>United States</td>\n",
       "      <td>38</td>\n",
       "      <td>Male</td>\n",
       "      <td>Laptop</td>\n",
       "      <td>1 Month</td>\n",
       "    </tr>\n",
       "    <tr>\n",
       "      <th>2498</th>\n",
       "      <td>2499</td>\n",
       "      <td>Standard</td>\n",
       "      <td>13</td>\n",
       "      <td>12-08-22</td>\n",
       "      <td>12-07-23</td>\n",
       "      <td>Canada</td>\n",
       "      <td>48</td>\n",
       "      <td>Female</td>\n",
       "      <td>Tablet</td>\n",
       "      <td>1 Month</td>\n",
       "    </tr>\n",
       "    <tr>\n",
       "      <th>2499</th>\n",
       "      <td>2500</td>\n",
       "      <td>Basic</td>\n",
       "      <td>15</td>\n",
       "      <td>13-08-22</td>\n",
       "      <td>12-07-23</td>\n",
       "      <td>United States</td>\n",
       "      <td>35</td>\n",
       "      <td>Female</td>\n",
       "      <td>Smart TV</td>\n",
       "      <td>1 Month</td>\n",
       "    </tr>\n",
       "  </tbody>\n",
       "</table>\n",
       "</div>"
      ],
      "text/plain": [
       "      User ID Subscription Type  Monthly Revenue Join Date Last Payment Date  \\\n",
       "2495     2496           Premium               14  25-07-22          12-07-23   \n",
       "2496     2497             Basic               15  04-08-22          14-07-23   \n",
       "2497     2498          Standard               12  09-08-22          15-07-23   \n",
       "2498     2499          Standard               13  12-08-22          12-07-23   \n",
       "2499     2500             Basic               15  13-08-22          12-07-23   \n",
       "\n",
       "            Country  Age  Gender    Device Plan Duration  \n",
       "2495          Spain   28  Female  Smart TV       1 Month  \n",
       "2496          Spain   33  Female  Smart TV       1 Month  \n",
       "2497  United States   38    Male    Laptop       1 Month  \n",
       "2498         Canada   48  Female    Tablet       1 Month  \n",
       "2499  United States   35  Female  Smart TV       1 Month  "
      ]
     },
     "execution_count": 3,
     "metadata": {},
     "output_type": "execute_result"
    }
   ],
   "source": [
    "net.tail()"
   ]
  },
  {
   "cell_type": "code",
   "execution_count": 4,
   "id": "bfb69c04",
   "metadata": {},
   "outputs": [
    {
     "name": "stdout",
     "output_type": "stream",
     "text": [
      "<class 'pandas.core.frame.DataFrame'>\n",
      "RangeIndex: 2500 entries, 0 to 2499\n",
      "Data columns (total 10 columns):\n",
      " #   Column             Non-Null Count  Dtype \n",
      "---  ------             --------------  ----- \n",
      " 0   User ID            2500 non-null   int64 \n",
      " 1   Subscription Type  2500 non-null   object\n",
      " 2   Monthly Revenue    2500 non-null   int64 \n",
      " 3   Join Date          2500 non-null   object\n",
      " 4   Last Payment Date  2500 non-null   object\n",
      " 5   Country            2500 non-null   object\n",
      " 6   Age                2500 non-null   int64 \n",
      " 7   Gender             2500 non-null   object\n",
      " 8   Device             2500 non-null   object\n",
      " 9   Plan Duration      2500 non-null   object\n",
      "dtypes: int64(3), object(7)\n",
      "memory usage: 195.4+ KB\n"
     ]
    }
   ],
   "source": [
    "net.info()"
   ]
  },
  {
   "cell_type": "code",
   "execution_count": 5,
   "id": "450e471a",
   "metadata": {},
   "outputs": [
    {
     "data": {
      "text/html": [
       "<div>\n",
       "<style scoped>\n",
       "    .dataframe tbody tr th:only-of-type {\n",
       "        vertical-align: middle;\n",
       "    }\n",
       "\n",
       "    .dataframe tbody tr th {\n",
       "        vertical-align: top;\n",
       "    }\n",
       "\n",
       "    .dataframe thead th {\n",
       "        text-align: right;\n",
       "    }\n",
       "</style>\n",
       "<table border=\"1\" class=\"dataframe\">\n",
       "  <thead>\n",
       "    <tr style=\"text-align: right;\">\n",
       "      <th></th>\n",
       "      <th>User ID</th>\n",
       "      <th>Monthly Revenue</th>\n",
       "      <th>Age</th>\n",
       "    </tr>\n",
       "  </thead>\n",
       "  <tbody>\n",
       "    <tr>\n",
       "      <th>count</th>\n",
       "      <td>2500.00000</td>\n",
       "      <td>2500.000000</td>\n",
       "      <td>2500.000000</td>\n",
       "    </tr>\n",
       "    <tr>\n",
       "      <th>mean</th>\n",
       "      <td>1250.50000</td>\n",
       "      <td>12.508400</td>\n",
       "      <td>38.795600</td>\n",
       "    </tr>\n",
       "    <tr>\n",
       "      <th>std</th>\n",
       "      <td>721.83216</td>\n",
       "      <td>1.686851</td>\n",
       "      <td>7.171778</td>\n",
       "    </tr>\n",
       "    <tr>\n",
       "      <th>min</th>\n",
       "      <td>1.00000</td>\n",
       "      <td>10.000000</td>\n",
       "      <td>26.000000</td>\n",
       "    </tr>\n",
       "    <tr>\n",
       "      <th>25%</th>\n",
       "      <td>625.75000</td>\n",
       "      <td>11.000000</td>\n",
       "      <td>32.000000</td>\n",
       "    </tr>\n",
       "    <tr>\n",
       "      <th>50%</th>\n",
       "      <td>1250.50000</td>\n",
       "      <td>12.000000</td>\n",
       "      <td>39.000000</td>\n",
       "    </tr>\n",
       "    <tr>\n",
       "      <th>75%</th>\n",
       "      <td>1875.25000</td>\n",
       "      <td>14.000000</td>\n",
       "      <td>45.000000</td>\n",
       "    </tr>\n",
       "    <tr>\n",
       "      <th>max</th>\n",
       "      <td>2500.00000</td>\n",
       "      <td>15.000000</td>\n",
       "      <td>51.000000</td>\n",
       "    </tr>\n",
       "  </tbody>\n",
       "</table>\n",
       "</div>"
      ],
      "text/plain": [
       "          User ID  Monthly Revenue          Age\n",
       "count  2500.00000      2500.000000  2500.000000\n",
       "mean   1250.50000        12.508400    38.795600\n",
       "std     721.83216         1.686851     7.171778\n",
       "min       1.00000        10.000000    26.000000\n",
       "25%     625.75000        11.000000    32.000000\n",
       "50%    1250.50000        12.000000    39.000000\n",
       "75%    1875.25000        14.000000    45.000000\n",
       "max    2500.00000        15.000000    51.000000"
      ]
     },
     "execution_count": 5,
     "metadata": {},
     "output_type": "execute_result"
    }
   ],
   "source": [
    "net.describe()"
   ]
  },
  {
   "cell_type": "code",
   "execution_count": 6,
   "id": "5854562f",
   "metadata": {},
   "outputs": [],
   "source": [
    "s_t=pd.get_dummies(net['Subscription Type'],drop_first=True)\n",
    "genders=pd.get_dummies(net['Gender'],drop_first=True)\n",
    "countrys=pd.get_dummies(net['Country'],drop_first=True)\n"
   ]
  },
  {
   "cell_type": "code",
   "execution_count": 7,
   "id": "3a1c52e5",
   "metadata": {},
   "outputs": [],
   "source": [
    "net.drop(['Subscription Type','Country','Gender'],axis=1,inplace=True)"
   ]
  },
  {
   "cell_type": "code",
   "execution_count": 8,
   "id": "52065b43",
   "metadata": {},
   "outputs": [
    {
     "data": {
      "text/html": [
       "<div>\n",
       "<style scoped>\n",
       "    .dataframe tbody tr th:only-of-type {\n",
       "        vertical-align: middle;\n",
       "    }\n",
       "\n",
       "    .dataframe tbody tr th {\n",
       "        vertical-align: top;\n",
       "    }\n",
       "\n",
       "    .dataframe thead th {\n",
       "        text-align: right;\n",
       "    }\n",
       "</style>\n",
       "<table border=\"1\" class=\"dataframe\">\n",
       "  <thead>\n",
       "    <tr style=\"text-align: right;\">\n",
       "      <th></th>\n",
       "      <th>User ID</th>\n",
       "      <th>Monthly Revenue</th>\n",
       "      <th>Join Date</th>\n",
       "      <th>Last Payment Date</th>\n",
       "      <th>Age</th>\n",
       "      <th>Device</th>\n",
       "      <th>Plan Duration</th>\n",
       "    </tr>\n",
       "  </thead>\n",
       "  <tbody>\n",
       "    <tr>\n",
       "      <th>0</th>\n",
       "      <td>1</td>\n",
       "      <td>10</td>\n",
       "      <td>15-01-22</td>\n",
       "      <td>10-06-23</td>\n",
       "      <td>28</td>\n",
       "      <td>Smartphone</td>\n",
       "      <td>1 Month</td>\n",
       "    </tr>\n",
       "    <tr>\n",
       "      <th>1</th>\n",
       "      <td>2</td>\n",
       "      <td>15</td>\n",
       "      <td>05-09-21</td>\n",
       "      <td>22-06-23</td>\n",
       "      <td>35</td>\n",
       "      <td>Tablet</td>\n",
       "      <td>1 Month</td>\n",
       "    </tr>\n",
       "    <tr>\n",
       "      <th>2</th>\n",
       "      <td>3</td>\n",
       "      <td>12</td>\n",
       "      <td>28-02-23</td>\n",
       "      <td>27-06-23</td>\n",
       "      <td>42</td>\n",
       "      <td>Smart TV</td>\n",
       "      <td>1 Month</td>\n",
       "    </tr>\n",
       "    <tr>\n",
       "      <th>3</th>\n",
       "      <td>4</td>\n",
       "      <td>12</td>\n",
       "      <td>10-07-22</td>\n",
       "      <td>26-06-23</td>\n",
       "      <td>51</td>\n",
       "      <td>Laptop</td>\n",
       "      <td>1 Month</td>\n",
       "    </tr>\n",
       "    <tr>\n",
       "      <th>4</th>\n",
       "      <td>5</td>\n",
       "      <td>10</td>\n",
       "      <td>01-05-23</td>\n",
       "      <td>28-06-23</td>\n",
       "      <td>33</td>\n",
       "      <td>Smartphone</td>\n",
       "      <td>1 Month</td>\n",
       "    </tr>\n",
       "  </tbody>\n",
       "</table>\n",
       "</div>"
      ],
      "text/plain": [
       "   User ID  Monthly Revenue Join Date Last Payment Date  Age      Device  \\\n",
       "0        1               10  15-01-22          10-06-23   28  Smartphone   \n",
       "1        2               15  05-09-21          22-06-23   35      Tablet   \n",
       "2        3               12  28-02-23          27-06-23   42    Smart TV   \n",
       "3        4               12  10-07-22          26-06-23   51      Laptop   \n",
       "4        5               10  01-05-23          28-06-23   33  Smartphone   \n",
       "\n",
       "  Plan Duration  \n",
       "0       1 Month  \n",
       "1       1 Month  \n",
       "2       1 Month  \n",
       "3       1 Month  \n",
       "4       1 Month  "
      ]
     },
     "execution_count": 8,
     "metadata": {},
     "output_type": "execute_result"
    }
   ],
   "source": [
    "net.head()"
   ]
  },
  {
   "cell_type": "code",
   "execution_count": 9,
   "id": "24cc9e5d",
   "metadata": {},
   "outputs": [
    {
     "data": {
      "text/html": [
       "<div>\n",
       "<style scoped>\n",
       "    .dataframe tbody tr th:only-of-type {\n",
       "        vertical-align: middle;\n",
       "    }\n",
       "\n",
       "    .dataframe tbody tr th {\n",
       "        vertical-align: top;\n",
       "    }\n",
       "\n",
       "    .dataframe thead th {\n",
       "        text-align: right;\n",
       "    }\n",
       "</style>\n",
       "<table border=\"1\" class=\"dataframe\">\n",
       "  <thead>\n",
       "    <tr style=\"text-align: right;\">\n",
       "      <th></th>\n",
       "      <th>User ID</th>\n",
       "      <th>Monthly Revenue</th>\n",
       "      <th>Join Date</th>\n",
       "      <th>Last Payment Date</th>\n",
       "      <th>Age</th>\n",
       "      <th>Device</th>\n",
       "      <th>Plan Duration</th>\n",
       "      <th>Premium</th>\n",
       "      <th>Standard</th>\n",
       "      <th>Male</th>\n",
       "      <th>Brazil</th>\n",
       "      <th>Canada</th>\n",
       "      <th>France</th>\n",
       "      <th>Germany</th>\n",
       "      <th>Italy</th>\n",
       "      <th>Mexico</th>\n",
       "      <th>Spain</th>\n",
       "      <th>United Kingdom</th>\n",
       "      <th>United States</th>\n",
       "    </tr>\n",
       "  </thead>\n",
       "  <tbody>\n",
       "    <tr>\n",
       "      <th>0</th>\n",
       "      <td>1</td>\n",
       "      <td>10</td>\n",
       "      <td>15-01-22</td>\n",
       "      <td>10-06-23</td>\n",
       "      <td>28</td>\n",
       "      <td>Smartphone</td>\n",
       "      <td>1 Month</td>\n",
       "      <td>0</td>\n",
       "      <td>0</td>\n",
       "      <td>1</td>\n",
       "      <td>0</td>\n",
       "      <td>0</td>\n",
       "      <td>0</td>\n",
       "      <td>0</td>\n",
       "      <td>0</td>\n",
       "      <td>0</td>\n",
       "      <td>0</td>\n",
       "      <td>0</td>\n",
       "      <td>1</td>\n",
       "    </tr>\n",
       "    <tr>\n",
       "      <th>1</th>\n",
       "      <td>2</td>\n",
       "      <td>15</td>\n",
       "      <td>05-09-21</td>\n",
       "      <td>22-06-23</td>\n",
       "      <td>35</td>\n",
       "      <td>Tablet</td>\n",
       "      <td>1 Month</td>\n",
       "      <td>1</td>\n",
       "      <td>0</td>\n",
       "      <td>0</td>\n",
       "      <td>0</td>\n",
       "      <td>1</td>\n",
       "      <td>0</td>\n",
       "      <td>0</td>\n",
       "      <td>0</td>\n",
       "      <td>0</td>\n",
       "      <td>0</td>\n",
       "      <td>0</td>\n",
       "      <td>0</td>\n",
       "    </tr>\n",
       "    <tr>\n",
       "      <th>2</th>\n",
       "      <td>3</td>\n",
       "      <td>12</td>\n",
       "      <td>28-02-23</td>\n",
       "      <td>27-06-23</td>\n",
       "      <td>42</td>\n",
       "      <td>Smart TV</td>\n",
       "      <td>1 Month</td>\n",
       "      <td>0</td>\n",
       "      <td>1</td>\n",
       "      <td>1</td>\n",
       "      <td>0</td>\n",
       "      <td>0</td>\n",
       "      <td>0</td>\n",
       "      <td>0</td>\n",
       "      <td>0</td>\n",
       "      <td>0</td>\n",
       "      <td>0</td>\n",
       "      <td>1</td>\n",
       "      <td>0</td>\n",
       "    </tr>\n",
       "    <tr>\n",
       "      <th>3</th>\n",
       "      <td>4</td>\n",
       "      <td>12</td>\n",
       "      <td>10-07-22</td>\n",
       "      <td>26-06-23</td>\n",
       "      <td>51</td>\n",
       "      <td>Laptop</td>\n",
       "      <td>1 Month</td>\n",
       "      <td>0</td>\n",
       "      <td>1</td>\n",
       "      <td>0</td>\n",
       "      <td>0</td>\n",
       "      <td>0</td>\n",
       "      <td>0</td>\n",
       "      <td>0</td>\n",
       "      <td>0</td>\n",
       "      <td>0</td>\n",
       "      <td>0</td>\n",
       "      <td>0</td>\n",
       "      <td>0</td>\n",
       "    </tr>\n",
       "    <tr>\n",
       "      <th>4</th>\n",
       "      <td>5</td>\n",
       "      <td>10</td>\n",
       "      <td>01-05-23</td>\n",
       "      <td>28-06-23</td>\n",
       "      <td>33</td>\n",
       "      <td>Smartphone</td>\n",
       "      <td>1 Month</td>\n",
       "      <td>0</td>\n",
       "      <td>0</td>\n",
       "      <td>1</td>\n",
       "      <td>0</td>\n",
       "      <td>0</td>\n",
       "      <td>0</td>\n",
       "      <td>1</td>\n",
       "      <td>0</td>\n",
       "      <td>0</td>\n",
       "      <td>0</td>\n",
       "      <td>0</td>\n",
       "      <td>0</td>\n",
       "    </tr>\n",
       "  </tbody>\n",
       "</table>\n",
       "</div>"
      ],
      "text/plain": [
       "   User ID  Monthly Revenue Join Date Last Payment Date  Age      Device  \\\n",
       "0        1               10  15-01-22          10-06-23   28  Smartphone   \n",
       "1        2               15  05-09-21          22-06-23   35      Tablet   \n",
       "2        3               12  28-02-23          27-06-23   42    Smart TV   \n",
       "3        4               12  10-07-22          26-06-23   51      Laptop   \n",
       "4        5               10  01-05-23          28-06-23   33  Smartphone   \n",
       "\n",
       "  Plan Duration  Premium  Standard  Male  Brazil  Canada  France  Germany  \\\n",
       "0       1 Month        0         0     1       0       0       0        0   \n",
       "1       1 Month        1         0     0       0       1       0        0   \n",
       "2       1 Month        0         1     1       0       0       0        0   \n",
       "3       1 Month        0         1     0       0       0       0        0   \n",
       "4       1 Month        0         0     1       0       0       0        1   \n",
       "\n",
       "   Italy  Mexico  Spain  United Kingdom  United States  \n",
       "0      0       0      0               0              1  \n",
       "1      0       0      0               0              0  \n",
       "2      0       0      0               1              0  \n",
       "3      0       0      0               0              0  \n",
       "4      0       0      0               0              0  "
      ]
     },
     "execution_count": 9,
     "metadata": {},
     "output_type": "execute_result"
    }
   ],
   "source": [
    "net=pd.concat([net,s_t,genders,countrys],axis=1)\n",
    "net.head()"
   ]
  },
  {
   "cell_type": "code",
   "execution_count": 10,
   "id": "6ca90978",
   "metadata": {},
   "outputs": [],
   "source": [
    "from sklearn.model_selection import train_test_split"
   ]
  },
  {
   "cell_type": "code",
   "execution_count": 11,
   "id": "26f6c6cb",
   "metadata": {},
   "outputs": [
    {
     "data": {
      "text/plain": [
       "Index(['User ID', 'Monthly Revenue', 'Join Date', 'Last Payment Date', 'Age',\n",
       "       'Device', 'Plan Duration', 'Premium', 'Standard', 'Male', 'Brazil',\n",
       "       'Canada', 'France', 'Germany', 'Italy', 'Mexico', 'Spain',\n",
       "       'United Kingdom', 'United States'],\n",
       "      dtype='object')"
      ]
     },
     "execution_count": 11,
     "metadata": {},
     "output_type": "execute_result"
    }
   ],
   "source": [
    "net.columns"
   ]
  },
  {
   "cell_type": "code",
   "execution_count": 17,
   "id": "66212f76",
   "metadata": {},
   "outputs": [],
   "source": [
    "X=net[['User ID', 'Monthly Revenue', 'Premium', 'Standard', 'Male', 'Brazil',\n",
    "       'Canada', 'France', 'Germany', 'Italy', 'Mexico', 'Spain',\n",
    "       'United Kingdom', 'United States']]\n",
    "y=net[ 'Age']"
   ]
  },
  {
   "cell_type": "code",
   "execution_count": 18,
   "id": "e69a5fcf",
   "metadata": {},
   "outputs": [],
   "source": [
    "X_train,X_test,y_train,y_test=train_test_split(X,y,test_size=0.40,random_state=101)"
   ]
  },
  {
   "cell_type": "code",
   "execution_count": 19,
   "id": "ac0ac6a7",
   "metadata": {},
   "outputs": [],
   "source": [
    "from sklearn.linear_model import LinearRegression"
   ]
  },
  {
   "cell_type": "code",
   "execution_count": 20,
   "id": "6da26572",
   "metadata": {},
   "outputs": [],
   "source": [
    "lm=LinearRegression()"
   ]
  },
  {
   "cell_type": "code",
   "execution_count": 21,
   "id": "7291776c",
   "metadata": {},
   "outputs": [
    {
     "data": {
      "text/html": [
       "<style>#sk-container-id-1 {color: black;background-color: white;}#sk-container-id-1 pre{padding: 0;}#sk-container-id-1 div.sk-toggleable {background-color: white;}#sk-container-id-1 label.sk-toggleable__label {cursor: pointer;display: block;width: 100%;margin-bottom: 0;padding: 0.3em;box-sizing: border-box;text-align: center;}#sk-container-id-1 label.sk-toggleable__label-arrow:before {content: \"▸\";float: left;margin-right: 0.25em;color: #696969;}#sk-container-id-1 label.sk-toggleable__label-arrow:hover:before {color: black;}#sk-container-id-1 div.sk-estimator:hover label.sk-toggleable__label-arrow:before {color: black;}#sk-container-id-1 div.sk-toggleable__content {max-height: 0;max-width: 0;overflow: hidden;text-align: left;background-color: #f0f8ff;}#sk-container-id-1 div.sk-toggleable__content pre {margin: 0.2em;color: black;border-radius: 0.25em;background-color: #f0f8ff;}#sk-container-id-1 input.sk-toggleable__control:checked~div.sk-toggleable__content {max-height: 200px;max-width: 100%;overflow: auto;}#sk-container-id-1 input.sk-toggleable__control:checked~label.sk-toggleable__label-arrow:before {content: \"▾\";}#sk-container-id-1 div.sk-estimator input.sk-toggleable__control:checked~label.sk-toggleable__label {background-color: #d4ebff;}#sk-container-id-1 div.sk-label input.sk-toggleable__control:checked~label.sk-toggleable__label {background-color: #d4ebff;}#sk-container-id-1 input.sk-hidden--visually {border: 0;clip: rect(1px 1px 1px 1px);clip: rect(1px, 1px, 1px, 1px);height: 1px;margin: -1px;overflow: hidden;padding: 0;position: absolute;width: 1px;}#sk-container-id-1 div.sk-estimator {font-family: monospace;background-color: #f0f8ff;border: 1px dotted black;border-radius: 0.25em;box-sizing: border-box;margin-bottom: 0.5em;}#sk-container-id-1 div.sk-estimator:hover {background-color: #d4ebff;}#sk-container-id-1 div.sk-parallel-item::after {content: \"\";width: 100%;border-bottom: 1px solid gray;flex-grow: 1;}#sk-container-id-1 div.sk-label:hover label.sk-toggleable__label {background-color: #d4ebff;}#sk-container-id-1 div.sk-serial::before {content: \"\";position: absolute;border-left: 1px solid gray;box-sizing: border-box;top: 0;bottom: 0;left: 50%;z-index: 0;}#sk-container-id-1 div.sk-serial {display: flex;flex-direction: column;align-items: center;background-color: white;padding-right: 0.2em;padding-left: 0.2em;position: relative;}#sk-container-id-1 div.sk-item {position: relative;z-index: 1;}#sk-container-id-1 div.sk-parallel {display: flex;align-items: stretch;justify-content: center;background-color: white;position: relative;}#sk-container-id-1 div.sk-item::before, #sk-container-id-1 div.sk-parallel-item::before {content: \"\";position: absolute;border-left: 1px solid gray;box-sizing: border-box;top: 0;bottom: 0;left: 50%;z-index: -1;}#sk-container-id-1 div.sk-parallel-item {display: flex;flex-direction: column;z-index: 1;position: relative;background-color: white;}#sk-container-id-1 div.sk-parallel-item:first-child::after {align-self: flex-end;width: 50%;}#sk-container-id-1 div.sk-parallel-item:last-child::after {align-self: flex-start;width: 50%;}#sk-container-id-1 div.sk-parallel-item:only-child::after {width: 0;}#sk-container-id-1 div.sk-dashed-wrapped {border: 1px dashed gray;margin: 0 0.4em 0.5em 0.4em;box-sizing: border-box;padding-bottom: 0.4em;background-color: white;}#sk-container-id-1 div.sk-label label {font-family: monospace;font-weight: bold;display: inline-block;line-height: 1.2em;}#sk-container-id-1 div.sk-label-container {text-align: center;}#sk-container-id-1 div.sk-container {/* jupyter's `normalize.less` sets `[hidden] { display: none; }` but bootstrap.min.css set `[hidden] { display: none !important; }` so we also need the `!important` here to be able to override the default hidden behavior on the sphinx rendered scikit-learn.org. See: https://github.com/scikit-learn/scikit-learn/issues/21755 */display: inline-block !important;position: relative;}#sk-container-id-1 div.sk-text-repr-fallback {display: none;}</style><div id=\"sk-container-id-1\" class=\"sk-top-container\"><div class=\"sk-text-repr-fallback\"><pre>LinearRegression()</pre><b>In a Jupyter environment, please rerun this cell to show the HTML representation or trust the notebook. <br />On GitHub, the HTML representation is unable to render, please try loading this page with nbviewer.org.</b></div><div class=\"sk-container\" hidden><div class=\"sk-item\"><div class=\"sk-estimator sk-toggleable\"><input class=\"sk-toggleable__control sk-hidden--visually\" id=\"sk-estimator-id-1\" type=\"checkbox\" checked><label for=\"sk-estimator-id-1\" class=\"sk-toggleable__label sk-toggleable__label-arrow\">LinearRegression</label><div class=\"sk-toggleable__content\"><pre>LinearRegression()</pre></div></div></div></div></div>"
      ],
      "text/plain": [
       "LinearRegression()"
      ]
     },
     "execution_count": 21,
     "metadata": {},
     "output_type": "execute_result"
    }
   ],
   "source": [
    "lm.fit(X_train,y_train)"
   ]
  },
  {
   "cell_type": "code",
   "execution_count": 22,
   "id": "8e324e41",
   "metadata": {},
   "outputs": [
    {
     "name": "stdout",
     "output_type": "stream",
     "text": [
      "39.44129975947873\n"
     ]
    }
   ],
   "source": [
    "print(lm.intercept_)"
   ]
  },
  {
   "cell_type": "code",
   "execution_count": 23,
   "id": "913594b3",
   "metadata": {},
   "outputs": [
    {
     "name": "stdout",
     "output_type": "stream",
     "text": [
      "[-4.55256796e-05 -6.48085370e-02 -4.25996915e-01  3.50509448e-01\n",
      " -3.62585875e-01 -5.75456245e-01  7.98532934e-01  6.99475050e-01\n",
      " -2.17597817e-01  4.59948367e-01  3.59565250e-02  5.94835595e-01\n",
      "  1.36729220e+00  2.27737671e-01]\n"
     ]
    }
   ],
   "source": [
    "print(lm.coef_)"
   ]
  },
  {
   "cell_type": "code",
   "execution_count": 24,
   "id": "389ea5a9",
   "metadata": {},
   "outputs": [],
   "source": [
    "predictions=lm.predict(X_test)"
   ]
  },
  {
   "cell_type": "code",
   "execution_count": 25,
   "id": "42cadfca",
   "metadata": {},
   "outputs": [
    {
     "data": {
      "text/plain": [
       "<matplotlib.collections.PathCollection at 0x16264a81b50>"
      ]
     },
     "execution_count": 25,
     "metadata": {},
     "output_type": "execute_result"
    },
    {
     "data": {
      "image/png": "[encoded data removed]",
      "text/plain": [
       "<Figure size 640x480 with 1 Axes>"
      ]
     },
     "metadata": {},
     "output_type": "display_data"
    }
   ],
   "source": [
    "plt.scatter(y_test,predictions)"
   ]
  },
  {
   "cell_type": "code",
   "execution_count": 26,
   "id": "a2b97044",
   "metadata": {},
   "outputs": [
    {
     "name": "stderr",
     "output_type": "stream",
     "text": [
      "C:\\Users\\palan\\AppData\\Local\\Temp\\ipykernel_1752\\1061164399.py:1: UserWarning: \n",
      "\n",
      "`distplot` is a deprecated function and will be removed in seaborn v0.14.0.\n",
      "\n",
      "Please adapt your code to use either `displot` (a figure-level function with\n",
      "similar flexibility) or `histplot` (an axes-level function for histograms).\n",
      "\n",
      "For a guide to updating your code to use the new functions, please see\n",
      "https://gist.github.com/mwaskom/de44147ed2974457ad6372750bbe5751\n",
      "\n",
      "  sns.distplot((y_test-predictions),bins=50)\n"
     ]
    },
    {
     "data": {
      "text/plain": [
       "<Axes: xlabel='Age', ylabel='Density'>"
      ]
     },
     "execution_count": 26,
     "metadata": {},
     "output_type": "execute_result"
    },
    {
     "data": {
      "image/png": "[encoded data removed]",
      "text/plain": [
       "<Figure size 640x480 with 1 Axes>"
      ]
     },
     "metadata": {},
     "output_type": "display_data"
    }
   ],
   "source": [
    "sns.distplot((y_test-predictions),bins=50)"
   ]
  },
  {
   "cell_type": "code",
   "execution_count": 27,
   "id": "f2b7e8aa",
   "metadata": {},
   "outputs": [
    {
     "data": {
      "text/plain": [
       "array([38.33488246, 38.82246587, 38.907723  , 39.04641591, 38.36958191,\n",
       "       37.50895858, 37.42109402, 39.69620504, 37.95396881, 39.07542722,\n",
       "       40.06452634, 38.90546132, 40.37170199, 37.58014071, 38.0819823 ,\n",
       "       39.32662372, 38.30438431, 38.52407667, 40.24361276, 39.09252266,\n",
       "       38.83602006, 38.96346265, 38.52894792, 38.73091438, 38.27540931,\n",
       "       38.36200462, 38.07842407, 37.90667747, 38.00471975, 37.63966133,\n",
       "       38.62383251, 38.95227413, 38.99221251, 40.35888925, 38.21516318,\n",
       "       38.88784534, 38.81212749, 39.72960086, 38.42411279, 37.66810179,\n",
       "       38.49230421, 38.67515311, 39.49839418, 38.4063266 , 39.22868461,\n",
       "       38.65094181, 38.67926211, 39.06976903, 39.32807554, 38.39104517,\n",
       "       38.41704912, 39.56294139, 39.41713684, 38.56298989, 38.79932759,\n",
       "       37.78884135, 39.00957093, 39.22039133, 38.19461142, 38.94773465,\n",
       "       38.58037487, 37.95649389, 39.83873138, 39.35062574, 38.29430247,\n",
       "       38.94086812, 39.77735945, 38.27107954, 38.67932767, 38.90510044,\n",
       "       39.62934785, 37.57695391, 38.5026679 , 39.1366595 , 38.98436821,\n",
       "       40.37807559, 37.92033517, 38.43929834, 38.00466439, 38.48572611,\n",
       "       38.95691377, 38.85540472, 38.62012338, 38.95390397, 38.6371454 ,\n",
       "       39.7520927 , 38.74338777, 37.99124705, 38.54349907, 39.35368808,\n",
       "       38.68574744, 39.34965633, 38.44429898, 38.44573428, 39.39149158,\n",
       "       37.71447242, 37.7479338 , 39.01090588, 38.85056068, 38.21607369,\n",
       "       39.00026696, 38.4021167 , 39.77460572, 39.45195799, 39.00724883,\n",
       "       38.5030271 , 38.81794241, 38.62755225, 38.38500528, 37.90008644,\n",
       "       39.56089274, 38.70188838, 38.97718904, 38.5514326 , 38.63396442,\n",
       "       39.21184463, 38.81644524, 38.16484747, 40.19519347, 38.83245816,\n",
       "       38.66225554, 40.28383743, 39.19907579, 38.67645332, 39.75277558,\n",
       "       38.29679426, 38.22868169, 39.34590955, 37.92285736, 38.37296196,\n",
       "       37.68398331, 38.26859065, 39.01744754, 37.67971084, 38.5039448 ,\n",
       "       37.6454045 , 38.61050585, 37.15612689, 38.92222689, 39.5061909 ,\n",
       "       39.18286183, 38.24376413, 39.09913309, 39.02839701, 39.77597149,\n",
       "       38.81855974, 39.29167664, 38.89045949, 38.54283808, 38.1342159 ,\n",
       "       38.96726678, 38.29931029, 38.80701625, 39.21844133, 37.50577178,\n",
       "       38.64595735, 38.67946884, 37.8421064 , 38.5123966 , 39.71766315,\n",
       "       38.9409215 , 39.17970434, 37.14253475, 39.23813928, 37.98773145,\n",
       "       38.74775736, 38.53856263, 38.91455185, 38.49477816, 38.94681195,\n",
       "       38.5204877 , 38.49708477, 38.31973129, 38.31399902, 38.82818569,\n",
       "       38.48676926, 37.76791263, 39.13310759, 39.26456721, 38.6178768 ,\n",
       "       38.02697197, 38.5279423 , 39.99090585, 38.42308401, 38.91270152,\n",
       "       38.37777653, 38.9739859 , 38.13094067, 40.42558437, 38.61085769,\n",
       "       37.92989557, 40.23571133, 38.52099595, 38.95169545, 38.47019429,\n",
       "       38.69532935, 40.02157012, 39.01747085, 39.12215061, 38.62309097,\n",
       "       38.07357024, 39.00475991, 38.08064789, 38.59964524, 38.8603023 ,\n",
       "       38.60653124, 39.31209764, 39.06201254, 37.9188256 , 39.0531792 ,\n",
       "       38.78839263, 37.6824741 , 39.35170498, 38.46729663, 38.320652  ,\n",
       "       38.29494379, 40.1890475 , 40.17864215, 37.2823951 , 39.07954784,\n",
       "       38.95705523, 39.28694536, 38.08539672, 38.03766031, 37.73017878,\n",
       "       38.61416075, 38.4895008 , 37.98172928, 37.84939051, 39.14240953,\n",
       "       39.87556381, 39.08462274, 39.02254575, 37.63686423, 38.88513065,\n",
       "       38.79762483, 38.98801027, 38.690035  , 38.55356089, 38.23480436,\n",
       "       38.67591324, 38.37140294, 38.47174669, 39.89263594, 38.80818461,\n",
       "       38.77821491, 39.09828045, 39.35404016, 39.86263236, 39.22715463,\n",
       "       38.37842504, 38.04632847, 39.15154549, 38.2392164 , 38.34111624,\n",
       "       38.93215244, 38.5805816 , 38.93271117, 37.69336854, 38.66970172,\n",
       "       38.66081252, 39.02156816, 37.89492462, 38.49522937, 38.24782365,\n",
       "       38.50602784, 39.02333284, 39.12673503, 39.9083423 , 39.02049709,\n",
       "       39.86402031, 38.69244366, 39.13001288, 38.55834109, 37.82138238,\n",
       "       38.43350421, 38.25219122, 38.99363542, 38.66780967, 39.02511625,\n",
       "       38.63920892, 38.97106497, 39.11781973, 39.31960938, 37.95071646,\n",
       "       38.48026303, 38.55827525, 37.64904656, 39.81651154, 38.55579101,\n",
       "       37.43953192, 38.14118395, 38.89286283, 37.96575267, 39.51546631,\n",
       "       38.45254536, 38.7509083 , 38.64040321, 38.92125801, 39.01747926,\n",
       "       37.86958423, 37.98145903, 38.89459376, 38.82640252, 40.07985143,\n",
       "       38.53437426, 38.52411719, 40.31099077, 37.80909044, 38.19798533,\n",
       "       39.50037728, 40.35001174, 38.67293469, 38.50563877, 40.21766313,\n",
       "       38.73531302, 38.23541227, 39.23687923, 38.63972033, 38.98993702,\n",
       "       38.19182706, 37.8886522 , 39.05665918, 37.91317051, 38.3626875 ,\n",
       "       38.56036547, 39.21689636, 38.46215628, 39.1031262 , 39.7828659 ,\n",
       "       38.97682717, 38.59713415, 38.62513363, 39.0618668 , 38.56345233,\n",
       "       38.57473034, 39.32337589, 38.73097993, 38.97862036, 38.71759474,\n",
       "       38.52365143, 39.99357183, 39.22679411, 38.41976687, 39.58664845,\n",
       "       38.86365537, 39.15466776, 38.74390453, 38.09004621, 38.42189516,\n",
       "       40.20673696, 38.81507947, 40.08501289, 37.84091579, 38.86063565,\n",
       "       38.6731905 , 38.12948123, 40.08736317, 38.88966637, 38.77730035,\n",
       "       38.9180185 , 40.2947636 , 38.41084884, 38.8369318 , 38.17464533,\n",
       "       38.1529368 , 37.79652825, 38.83192274, 38.39246526, 38.80622403,\n",
       "       38.70854893, 37.89872067, 38.84616834, 38.57591918, 38.9215695 ,\n",
       "       39.06277132, 40.17545536, 39.05372932, 39.11930934, 38.3112992 ,\n",
       "       38.36593002, 39.1048146 , 39.17521988, 38.85524983, 38.83809902,\n",
       "       38.93628148, 39.80119488, 38.87420449, 38.49821808, 37.98446083,\n",
       "       38.15879977, 37.64150099, 40.15831767, 38.29992762, 39.16552582,\n",
       "       38.59765373, 38.41452091, 37.89984862, 39.44632072, 39.1269308 ,\n",
       "       38.43750185, 37.90236272, 38.95634062, 39.11981476, 38.55349505,\n",
       "       38.43678724, 38.86617599, 38.70116876, 39.29281026, 39.40149004,\n",
       "       38.69375931, 38.31085379, 39.91995134, 38.21829751, 37.46414751,\n",
       "       39.24627542, 39.59861801, 38.37751453, 38.78008211, 39.12911449,\n",
       "       39.82987605, 38.76041592, 38.07772291, 39.24462312, 38.29351246,\n",
       "       38.90726774, 38.92860767, 37.90448501, 38.44234496, 38.73651494,\n",
       "       37.52125051, 38.5828594 , 37.5732463 , 37.71431035, 39.1486734 ,\n",
       "       38.15825608, 38.33921145, 39.78691984, 38.49941413, 39.86720711,\n",
       "       37.71931818, 38.35837275, 39.28346538, 39.40514928, 38.91502171,\n",
       "       38.54263473, 37.65180983, 39.99152318, 38.36697806, 38.87599402,\n",
       "       38.39764234, 40.35827192, 38.20125589, 37.845074  , 38.87383668,\n",
       "       38.7986447 , 38.31104703, 38.52943077, 38.36168111, 38.48533793,\n",
       "       38.2480939 , 38.95676804, 40.06657499, 38.46319932, 39.31857375,\n",
       "       39.17112257, 38.0090105 , 37.87231577, 38.62445674, 39.12408953,\n",
       "       38.58802778, 38.75969976, 38.40161196, 38.87095618, 37.8430909 ,\n",
       "       38.81078361, 39.49764574, 39.60186585, 38.4800782 , 39.02300203,\n",
       "       39.61910457, 38.91739238, 38.82880671, 38.69199682, 39.12897946,\n",
       "       38.53967404, 39.07711101, 38.61137851, 38.4606339 , 38.09959351,\n",
       "       39.30783374, 38.40291217, 39.22297677, 39.194207  , 37.91118741,\n",
       "       38.05336667, 39.09220004, 40.13448224, 38.13564723, 38.5994301 ,\n",
       "       39.21167804, 38.56487524, 38.66239671, 37.84426466, 39.85036261,\n",
       "       39.40135983, 38.98016105, 38.97795937, 38.42293135, 38.81211064,\n",
       "       37.92019137, 38.20786923, 40.00927819, 39.40948889, 39.59383782,\n",
       "       38.93955573, 38.82477127, 39.13096256, 39.28826221, 38.41956022,\n",
       "       38.31738065, 39.01359324, 39.01718687, 38.52554851, 38.21652895,\n",
       "       39.29247946, 38.55252617, 38.12738705, 38.22128324, 39.5043004 ,\n",
       "       38.73173474, 38.63470845, 39.58007908, 38.61723944, 38.46383891,\n",
       "       38.70841639, 38.4816288 , 38.94447611, 39.03059982, 38.52490492,\n",
       "       38.72084086, 40.41010564, 39.95403005, 39.04411179, 38.86070121,\n",
       "       38.68165013, 39.30144301, 39.13512542, 39.43120464, 39.56228009,\n",
       "       39.24490964, 39.1012381 , 38.25391636, 40.20537119, 38.57461017,\n",
       "       38.76874557, 39.03255988, 38.21784225, 39.45293406, 38.07325417,\n",
       "       38.8708029 , 39.07383406, 38.03742285, 38.88138518, 38.83696682,\n",
       "       37.49211408, 38.02932189, 38.09633307, 39.38340268, 39.00202837,\n",
       "       37.58654603, 38.13367221, 39.22084207, 38.90323751, 39.74530722,\n",
       "       38.17685641, 38.84889988, 38.65809267, 39.02443336, 37.51487692,\n",
       "       38.63221738, 38.84732748, 39.60443532, 37.50505507, 38.57760986,\n",
       "       38.09495711, 37.83948446, 38.70705099, 40.40532544, 39.24985405,\n",
       "       38.21334215, 38.61509244, 38.99734455, 38.63577963, 39.17440333,\n",
       "       38.60579121, 38.13248161, 39.20855014, 38.50238578, 38.67045016,\n",
       "       38.96316947, 38.62900089, 39.85313752, 39.45435873, 38.99972425,\n",
       "       39.04166653, 39.13290148, 37.98650948, 38.51122201, 37.63197443,\n",
       "       39.19597168, 39.11990618, 38.78011934, 38.62197411, 38.79739001,\n",
       "       38.89946282, 38.40607744, 38.9236294 , 38.1979413 , 37.90281798,\n",
       "       38.11547503, 39.13788779, 37.88838895, 37.61148787, 40.40252834,\n",
       "       38.38864733, 38.63905897, 37.88565741, 39.00075898, 38.59738145,\n",
       "       38.82937454, 38.95946785, 38.65832066, 38.91585207, 38.95204498,\n",
       "       38.5420174 , 38.59212509, 38.69082719, 38.93745369, 39.65467564,\n",
       "       38.48948267, 38.64479584, 38.8702733 , 38.57356792, 39.18130029,\n",
       "       39.15470147, 38.30061051, 38.89816261, 38.56448706, 39.21730771,\n",
       "       37.92716403, 39.22890012, 39.87624669, 38.83853857, 38.22938681,\n",
       "       38.57480226, 37.62787712, 38.64948745, 38.14662507, 40.30234089,\n",
       "       38.30613915, 38.53910014, 38.99916661, 37.4368321 , 39.42600835,\n",
       "       39.35745459, 39.18777706, 38.67755281, 38.16289708, 40.33641959,\n",
       "       38.57402317, 38.6682587 , 39.17856875, 38.82358065, 38.37955719,\n",
       "       37.55344263, 38.69634304, 37.92278372, 39.23185428, 38.07569253,\n",
       "       38.72000355, 38.79570652, 38.62314811, 37.88522503, 38.10793193,\n",
       "       39.23226563, 38.20377192, 38.41699481, 39.24865487, 38.92588232,\n",
       "       38.64223365, 38.56300112, 39.34959676, 38.36431208, 38.86753006,\n",
       "       37.67494373, 38.11202924, 39.01380572, 38.57063302, 39.42792679,\n",
       "       39.19926551, 38.25598654, 38.90365742, 39.2463339 , 38.6767373 ,\n",
       "       38.99178509, 37.50502334, 39.01315512, 38.93565574, 37.99261282,\n",
       "       38.22835579, 38.86411564, 39.62593342, 40.0413738 , 37.9099481 ,\n",
       "       38.66552716, 39.17924908, 39.81924308, 40.03925958, 39.22724937,\n",
       "       40.11369407, 39.0867756 , 38.56850473, 39.78969475, 37.78952424,\n",
       "       38.94411424, 38.81827346, 38.11660008, 38.8399699 , 37.68582297,\n",
       "       38.33016782, 39.17150972, 38.62198684, 38.36855048, 38.86626533,\n",
       "       38.67243326, 38.94863056, 38.89504288, 38.96456606, 39.08439615,\n",
       "       38.44633383, 38.08139633, 38.68592484, 38.88889692, 40.15012305,\n",
       "       38.30036134, 38.84379738, 37.67015044, 38.66362131, 38.68438167,\n",
       "       40.22728907, 38.91182031, 39.27683866, 38.45790236, 38.45363893,\n",
       "       38.08952539, 38.92967307, 39.0175364 , 38.31057079, 38.78943021,\n",
       "       38.30575008, 38.97204698, 38.96668027, 39.14519342, 37.92564233,\n",
       "       39.81150371, 38.69229125, 39.5854766 , 38.63144845, 40.33293961,\n",
       "       38.89904382, 39.29589389, 38.72453926, 38.11933163, 38.77190282,\n",
       "       38.89952838, 38.82699508, 38.30302733, 39.26692618, 38.35474344,\n",
       "       39.38135557, 38.83937734, 38.95759666, 38.66459952, 38.1634179 ,\n",
       "       38.90330943, 40.32959074, 38.26813539, 40.30227533, 38.84707885,\n",
       "       38.89217994, 38.5182539 , 38.90177707, 38.33110788, 38.64860724,\n",
       "       39.37998825, 39.1601283 , 38.31546708, 38.72052436, 38.16734655,\n",
       "       38.24367308, 38.21714663, 37.90024851, 39.32377224, 38.87927097,\n",
       "       38.98013187, 38.62555122, 39.10906606, 38.10929734, 38.37796978,\n",
       "       38.97715118, 38.69927251, 38.67638671, 38.05035214, 39.49949862,\n",
       "       38.71404523, 38.14389722, 38.00897914, 38.77287199, 38.67208973,\n",
       "       38.75573402, 40.09320751, 38.6602612 , 39.27870182, 38.87131706,\n",
       "       38.60525406, 38.60591543, 38.53349283, 38.77242982, 39.04134852,\n",
       "       38.47139394, 38.41834934, 39.80870661, 37.64488369, 39.03196559,\n",
       "       39.1467653 , 38.09208177, 38.68409663, 39.72482066, 40.37989662,\n",
       "       40.07255889, 38.79732446, 39.22570831, 38.97514038, 39.3851008 ,\n",
       "       37.67100849, 38.74555749, 38.37504499, 38.57311266, 38.17045435,\n",
       "       38.71597179, 38.75886245, 37.89073364, 39.45982181, 39.15711278,\n",
       "       38.78026357, 39.15487797, 39.43113908, 38.91881247, 38.54966693,\n",
       "       38.68729061, 37.96808177, 38.35359256, 38.85953285, 38.85816708,\n",
       "       38.59191837, 38.23962902, 38.42246668, 39.11915519, 38.75833399,\n",
       "       38.1570443 , 37.64403873, 39.19625566, 39.04013972, 39.03386851,\n",
       "       40.34188267, 38.47480837, 37.54326491, 37.57119765, 39.12969317,\n",
       "       38.97042574, 39.80513012, 38.23421876, 39.93838924, 38.50869382,\n",
       "       37.92477956, 39.74458096, 38.65274947, 38.98286341, 37.91804905,\n",
       "       38.69677102, 38.91614767, 39.17918353, 39.52681403, 38.95705432,\n",
       "       38.99608299, 38.84910386, 39.27102349, 38.67599306, 38.80956207,\n",
       "       38.44914502, 37.787921  , 38.12835293, 38.36275306, 38.02608263,\n",
       "       38.3622978 , 38.29626403, 39.77667657, 39.3141463 , 40.29886091,\n",
       "       39.06621958, 38.78831538, 37.74264588, 38.54669792, 38.64060994,\n",
       "       39.18219338, 38.55352678, 37.79406697, 38.43960983, 37.0504108 ,\n",
       "       38.97435257, 38.17545012, 39.28588276, 39.80392642, 39.25020614,\n",
       "       38.62246674, 40.13584802, 38.38694786, 40.0145792 , 39.20376739,\n",
       "       38.62786398, 38.50348113, 39.21083094, 38.0814488 , 38.78782962,\n",
       "       38.77447848, 39.58164062, 39.12760775, 37.97899774, 39.57666465,\n",
       "       40.42376334, 38.79036261, 38.40542628, 38.56264175, 38.49009385,\n",
       "       40.26949684, 38.19649765, 37.95307947, 39.20520127, 38.44298496,\n",
       "       38.93088396, 40.37853085, 39.09415231, 40.3789861 , 38.92063226,\n",
       "       38.24655622, 38.11954062, 39.27670208, 38.57118451, 40.14677418,\n",
       "       40.26881396, 39.50209514, 39.19818692, 38.30513275, 39.2059702 ,\n",
       "       38.60661983, 37.58696956, 38.31536479, 38.4489033 , 38.60676038,\n",
       "       38.2003575 , 40.29778832, 39.15431568, 38.75640724, 38.66088977,\n",
       "       38.77721002, 38.18952961, 38.22192683, 38.43064127, 38.77871724,\n",
       "       38.35968677, 38.48982343, 38.09905443, 38.39583416, 38.50193053,\n",
       "       38.97731428, 38.72249061, 39.03513087, 38.07574596, 38.45072433,\n",
       "       38.39515127, 38.26829747, 39.26129889, 38.4225377 , 40.24527172,\n",
       "       38.42991286, 38.66118509, 39.73502057, 37.8682921 , 38.37486685])"
      ]
     },
     "execution_count": 27,
     "metadata": {},
     "output_type": "execute_result"
    }
   ],
   "source": [
    "predictions"
   ]
  },
  {
   "cell_type": "code",
   "execution_count": 32,
   "id": "f087d3c6",
   "metadata": {},
   "outputs": [
    {
     "name": "stdout",
     "output_type": "stream",
     "text": [
      "True\n"
     ]
    }
   ],
   "source": [
    "print(lm.fit_intercept)"
   ]
  },
  {
   "cell_type": "code",
   "execution_count": 34,
   "id": "fc8a4adb",
   "metadata": {},
   "outputs": [
    {
     "name": "stdout",
     "output_type": "stream",
     "text": [
      "{'copy_X': True, 'fit_intercept': True, 'n_jobs': None, 'positive': False}\n"
     ]
    }
   ],
   "source": [
    "print(lm.get_params())"
   ]
  },
  {
   "cell_type": "code",
   "execution_count": 35,
   "id": "d3203c0e",
   "metadata": {},
   "outputs": [],
   "source": [
    "from sklearn  import metrics"
   ]
  },
  {
   "cell_type": "code",
   "execution_count": 36,
   "id": "68597b4c",
   "metadata": {},
   "outputs": [
    {
     "name": "stdout",
     "output_type": "stream",
     "text": [
      "MAE 6.283295704670201\n",
      "MSE 52.75242692836179\n",
      "RMSE 7.263086597883974\n"
     ]
    }
   ],
   "source": [
    "print('MAE',metrics.mean_absolute_error(y_test,predictions))\n",
    "print('MSE',metrics.mean_squared_error(y_test,predictions))\n",
    "print('RMSE',np.sqrt(metrics.mean_squared_error(y_test,predictions)))"
   ]
  },
  {
   "cell_type": "code",
   "execution_count": 37,
   "id": "6c40fc54",
   "metadata": {},
   "outputs": [
    {
     "name": "stdout",
     "output_type": "stream",
     "text": [
      "[-4.55256796e-05 -6.48085370e-02 -4.25996915e-01  3.50509448e-01\n",
      " -3.62585875e-01 -5.75456245e-01  7.98532934e-01  6.99475050e-01\n",
      " -2.17597817e-01  4.59948367e-01  3.59565250e-02  5.94835595e-01\n",
      "  1.36729220e+00  2.27737671e-01]\n"
     ]
    }
   ],
   "source": [
    "print(lm.coef_)"
   ]
  },
  {
   "cell_type": "code",
   "execution_count": null,
   "id": "5ed9874a",
   "metadata": {},
   "outputs": [],
   "source": []
  }
 ],
 "metadata": {
  "kernelspec": {
   "display_name": "Python 3 (ipykernel)",
   "language": "python",
   "name": "python3"
  },
  "language_info": {
   "codemirror_mode": {
    "name": "ipython",
    "version": 3
   },
   "file_extension": ".py",
   "mimetype": "text/x-python",
   "name": "python",
   "nbconvert_exporter": "python",
   "pygments_lexer": "ipython3",
   "version": "3.11.3"
  }
 },
 "nbformat": 4,
 "nbformat_minor": 5
}
